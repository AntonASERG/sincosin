{
 "cells": [
  {
   "cell_type": "markdown",
   "metadata": {},
   "source": [
    "Условие задания:\n",
    "Дано:\n",
    "f(x) = -12x^4*sin(cos(x)) - 18x^3+5x^2 + 10x - 30\n",
    "\n",
    "Необходимо:\n",
    "Определить корни.\n",
    "Найти интервалы на которых функция возрастает.\n",
    "Найти интервалы на которых функция убывает.\n",
    "Построить график.\n",
    "Вычислить вершину.\n",
    "Определить промежутки, на которых f(x) > 0\n",
    "Определить промежутки, на которых f(x) < 0\n",
    "Доп. условие:\n",
    "Так как данная функция имеет бесконечное количество корней (см. п. 1 решения) все задачи будут выполняться на отрезке х ∈ [—10, 10]!\n",
    "\n",
    "Решение\n",
    "1. Найдем общий график функции"
   ]
  },
  {
   "cell_type": "code",
   "execution_count": null,
   "metadata": {},
   "outputs": [],
   "source": [
    "from sympy import *\n",
    "from sympy.plotting import plot\n",
    "from sympy import Interval, symbols, solveset\n",
    "from sympy.calculus.util import *\n",
    "from sympy import abc\n",
    "from numpy import arange\n",
    "from numpy import cos, sin\n",
    "from scipy import optimize\n",
    "from scipy.optimize import differential_evolution\n",
    "init_printing()"
   ]
  },
  {
   "cell_type": "code",
   "execution_count": null,
   "metadata": {},
   "outputs": [],
   "source": [
    "def function(x):\n",
    "    return -12*sin(cos(x))*x**4 - 18*x**3+5*x**2 + 10*x - 30"
   ]
  },
  {
   "cell_type": "code",
   "execution_count": null,
   "metadata": {},
   "outputs": [],
   "source": [
    "x = Symbol('x', real=True)\n",
    "f = -12*sin(cos(x))*x**4 - 18*x**3+5*x**2 + 10*x - 30\n",
    "plot(f,(x,-100,100))\n",
    "print(f)"
   ]
  },
  {
   "cell_type": "markdown",
   "metadata": {},
   "source": [
    "\n",
    "Из графика выше понятно, что функция является немонотонной и имеет бесконечное количество корней, поэтому выведем график при х ∈ [—10, 10].\n",
    "Визуальный анализ показывает, что здесь как минимум 4 корня."
   ]
  },
  {
   "cell_type": "code",
   "execution_count": null,
   "metadata": {},
   "outputs": [],
   "source": [
    "plot(f,(x,-10,10))\n",
    "print(f)"
   ]
  },
  {
   "cell_type": "markdown",
   "metadata": {},
   "source": [
    "Найдем точное количество корней:"
   ]
  },
  {
   "cell_type": "code",
   "execution_count": null,
   "metadata": {},
   "outputs": [],
   "source": [
    "qtyXres = 0\n",
    "tempXres = function(-10)\n",
    "for i in arange (-10, 10, 0.001):\n",
    "    if tempXres * function(i) < 0: qtyXres += 1\n",
    "    tempXres = function(i)\n",
    "print(f\"Общее кол-во корней = {qtyXres}\")"
   ]
  },
  {
   "cell_type": "markdown",
   "metadata": {},
   "source": [
    "2. Поиск корней\n",
    "По вычислениям выше общее кол-во корней = 6.\n",
    "Находим каждый корень перебором, до тех пор пока функция не преодолеет 0, затем уточняем полученное значение с помощью функции nsolve()"
   ]
  },
  {
   "cell_type": "code",
   "execution_count": null,
   "metadata": {},
   "outputs": [],
   "source": [
    "def funcRootResult(minX, maxX, step):\n",
    "    tempDifferense = 0\n",
    "    if function(minX) - function(minX + step) < 0:\n",
    "        for i in arange (minX, maxX, step):\n",
    "            if function(i) > tempDifferense: \n",
    "                nearestX = i\n",
    "                message = f\"Функция возрастает!\\nx = {i} => f(x) = {function(i)}\\nf(x) = 0 при x = {nsolve(f, nearestX)}\"\n",
    "                return message\n",
    "    if function(minX) - function(minX + step) > 0:\n",
    "        for i in arange (minX, maxX, step):\n",
    "            if function(i) < tempDifferense: \n",
    "                nearestX = i\n",
    "                message = f\"Функция убывает!\\nx = {i} => f(x) = {function(i)}\\nf(x) = 0 при x = {nsolve(f, nearestX)}\"\n",
    "                return message"
   ]
  },
  {
   "cell_type": "markdown",
   "metadata": {},
   "source": [
    "Поиск корня x1:\n",
    "Ответ: f(x) = 0 при x = -7.65062228513275"
   ]
  },
  {
   "cell_type": "code",
   "execution_count": null,
   "metadata": {},
   "outputs": [],
   "source": [
    "plot(f,(x,-8,-7))\n",
    "print(f)\n",
    "print(funcRootResult(-7.7, -7.6, 0.00001))"
   ]
  },
  {
   "cell_type": "markdown",
   "metadata": {},
   "source": [
    "Поиск корня x2:\n",
    "Ответ: f(x) = 0 при x = -5.02686592820621"
   ]
  },
  {
   "cell_type": "code",
   "execution_count": null,
   "metadata": {},
   "outputs": [],
   "source": [
    "plot(f,(x,-5.5,-4.5))\n",
    "print(f)\n",
    "print(funcRootResult(-5.1, -4.9, 0.00001))"
   ]
  },
  {
   "cell_type": "markdown",
   "metadata": {},
   "source": [
    "Поиск корня x3:\n",
    "Ответ: f(x) = 0 при x = -1.33896663927711"
   ]
  },
  {
   "cell_type": "code",
   "execution_count": null,
   "metadata": {},
   "outputs": [],
   "source": [
    "plot(f,(x,-2,2))\n",
    "print(f)\n",
    "print(funcRootResult(-1.5, -1.3, 0.00001))"
   ]
  },
  {
   "cell_type": "markdown",
   "metadata": {},
   "source": [
    "Поиск корня x4:\n",
    "Ответ: f(x) = 0 при x = 2.27305684575625"
   ]
  },
  {
   "cell_type": "code",
   "execution_count": null,
   "metadata": {},
   "outputs": [],
   "source": [
    "plot(f,(x,1.5,3))\n",
    "print(f)\n",
    "print(funcRootResult(2.2, 2.3, 0.00001))"
   ]
  },
  {
   "cell_type": "markdown",
   "metadata": {},
   "source": [
    "\n",
    "Поиск корня x5:\n",
    "Ответ: f(x) = 0 при x = 4.38352369796896"
   ]
  },
  {
   "cell_type": "code",
   "execution_count": null,
   "metadata": {},
   "outputs": [],
   "source": [
    "plot(f,(x,3,5))\n",
    "print(f)\n",
    "print(funcRootResult(4.35, 4.4, 0.00001))"
   ]
  },
  {
   "cell_type": "markdown",
   "metadata": {},
   "source": [
    "Поиск корня x6:\n",
    "Ответ: f(x) = 0 при x = 8.03516413341352"
   ]
  },
  {
   "cell_type": "code",
   "execution_count": null,
   "metadata": {},
   "outputs": [],
   "source": [
    "plot(f,(x,7.5,8.5))\n",
    "print(f)\n",
    "print(funcRootResult(8, 8.1, 0.00001))"
   ]
  },
  {
   "cell_type": "markdown",
   "metadata": {},
   "source": [
    "2. ОТВЕТ:\n",
    "Всего 6 решений f(0) на отрезке х ∈ [—10, 10].\n",
    "x1 = -7.65062228513275\n",
    "x2 = -5.02686592820621\n",
    "x3 = -1.33896663927711\n",
    "x4 = 2.27305684575625\n",
    "x5 = 4.38352369796896\n",
    "x6 = 8.03516413341352"
   ]
  },
  {
   "cell_type": "markdown",
   "metadata": {},
   "source": [
    "3. Поиск вершин\n",
    "По вычислениям выше общее кол-во корней = 6 и известны их значения.\n",
    "Зная график и кол-во корней, можно предположить, что количество вершин (учитывая перечения с OX) =5\n",
    "Так как функция является довольно пологой вблизи начала отчета координат, для точного подсчета вершин предлается сжать функцию, умножив все ее коэффициенты на 5."
   ]
  },
  {
   "cell_type": "code",
   "execution_count": null,
   "metadata": {},
   "outputs": [],
   "source": [
    "ftemp = 5*12*sin(cos(5*x))*x**4 - 5*18*x**3+5*5*x**2 + 5*10*x - 30\n",
    "plot(ftemp,(x,-2.5,2.5))\n",
    "print(ftemp)"
   ]
  },
  {
   "cell_type": "markdown",
   "metadata": {},
   "source": [
    "\n",
    "Уточним количество вершин:\n",
    "Если выполнить код ниже с разным шагом, то с его уменьшением количество корней увеличивается. Видимо в промежутке от -1 до 1 у нее присутсвуют колебания, не заметные на графике. Поэтому считаю целесообразным найти хотя бы вершины, соответсвующие участкам функции, пересекающим ОХ"
   ]
  },
  {
   "cell_type": "code",
   "execution_count": null,
   "metadata": {},
   "outputs": [],
   "source": [
    "def functionTemp(x):\n",
    "    return 60*x**4*sin(cos(5*x)) - 90*x**3 + 25*x**2 + 50*x - 30\n",
    "\n",
    "qtyExtr = 0\n",
    "check = true\n",
    "## Кусок кода ниже фактически считает сколько раз функция поменяла свое направление.\n",
    "for i in arange (-2.5, 2.5, 0.025):\n",
    "    tempRes = functionTemp(i + 0.025)\n",
    "    tempY = functionTemp(i)\n",
    "    if check == true:\n",
    "        if tempY - tempRes > 0: \n",
    "            continue\n",
    "        else: \n",
    "            check == false\n",
    "            ## print(f\"{tempY} < {tempRes}\")\n",
    "            qtyExtr += 1 \n",
    "            continue\n",
    "    if check == false:\n",
    "        if tempY - tempRes < 0: \n",
    "            continue\n",
    "        else:\n",
    "            check == true\n",
    "            ## print(f\"{tempY} > {tempRes}\")\n",
    "            qtyExtr += 1\n",
    "            continue\n",
    "    \n",
    "print(f\"Общее кол-во вершин = {qtyExtr}\")"
   ]
  },
  {
   "cell_type": "markdown",
   "metadata": {},
   "source": [
    "Общее кол-во вершин = 89\n",
    "Найдем одни из вершин:"
   ]
  },
  {
   "cell_type": "code",
   "execution_count": null,
   "metadata": {},
   "outputs": [],
   "source": [
    "def extrFuncValue (func, bMin, bMax):\n",
    "    bounds = [(bMin, bMax)]\n",
    "    extrFuncValue = differential_evolution(func, bounds)\n",
    "    return (extrFuncValue.x,extrFuncValue.fun)\n",
    "\n",
    "print(\"Найдены следующие вершины:\")\n",
    "res = extrFuncValue(function, -7, -5) ##границы между x1 и x2 (примерно)\n",
    "print(f\"A ({res[0][0]}, {res[1]})\")\n",
    "res = extrFuncValue(lambda x:-function(x), -5,-1) ##границы между x2 и x3 (примерно)\n",
    "print(f\"B ({res[0][0]}, {res[1] * -1})\")\n",
    "res = extrFuncValue(function, -1, 2) ##границы между x3 и x4 (примерно)\n",
    "print(f\"С ({res[0][0]}, {res[1]})\")\n",
    "res = extrFuncValue(lambda x:-function(x), 2,4) ##границы между x4 и x5 (примерно)\n",
    "print(f\"D ({res[0][0]}, {res[1] * -1})\")\n",
    "res = extrFuncValue(function, 4, 8) ##границы между x5 и x6 (примерно)\n",
    "print(f\"E ({res[0][0]}, {res[1]})\")"
   ]
  },
  {
   "cell_type": "markdown",
   "metadata": {},
   "source": [
    "3. ОТВЕТ:\n",
    "Как минимум 5 вершин на отрезке х ∈ [—10, 10].\n",
    "A (-6.831370038454139, -13820.534926472736)\n",
    "B (-4.167783527804093, 3111.3632387359617)\n",
    "С (1.7006072772607506, -74.10629308610872)\n",
    "D (3.819310836467525, -872.2557702910613)\n",
    "E (7.001031654138797, -25610.50968103302)"
   ]
  },
  {
   "cell_type": "markdown",
   "metadata": {},
   "source": [
    ". Поиск интервалов возрастания и убывания функции:\n",
    "Зная данные ранее можно предположить, что на заданном интервале, существуюет как минимум 6 интервалов\n",
    "4. ОТВЕТ:\n",
    "Как минимум 6 интервалов возрастания/убывания ф-ции на отрезке х ∈ [—10, 10].\n",
    "Убывает при x ∈ [-10, -6,83..]\n",
    "Возрастает при x ∈ [-6,83.., -4,17..]\n",
    "Убывает при x ∈ [-4,17.., 1,7..]\n",
    "Возрастает при x ∈ [1,7.., 3,82..]\n",
    "Убывает при x ∈ [3,82.., 7,001..]\n",
    "Возрастает при x ∈ [7,001.., 9,5]\n",
    "5. Промежутки при которых f(x) > 0 или f(x) < 0 :\n",
    "5. ОТВЕТ:\n",
    "Как минимум 7 промежутков на отрезке х ∈ [—10, 10].\n",
    "f(x) > 0 на промежутках:\n",
    "x ∈ [-10, -7,65..]\n",
    "x ∈ [-5,03.., -1.34..]\n",
    "x ∈ [2,27.., 4,38..]\n",
    "x ∈ [8,04.., 9,5..]\n",
    "f(x) < 0 на промежутках:\n",
    "x ∈ [-7,65.., -5,03..]\n",
    "x ∈ [-1.34.., 2,27..]\n",
    "x ∈ [4,38.., 8,04..]"
   ]
  }
 ],
 "metadata": {
  "kernelspec": {
   "display_name": "Python 3.8.10 64-bit",
   "language": "python",
   "name": "python3"
  },
  "language_info": {
   "codemirror_mode": {
    "name": "ipython",
    "version": 3
   },
   "file_extension": ".py",
   "mimetype": "text/x-python",
   "name": "python",
   "nbconvert_exporter": "python",
   "pygments_lexer": "ipython3",
   "version": "3.8.10"
  },
  "orig_nbformat": 4,
  "vscode": {
   "interpreter": {
    "hash": "f544ce1a915a9875fad91c894e2c0bcad4b7a79945aa6027ef3ad27810072aa6"
   }
  }
 },
 "nbformat": 4,
 "nbformat_minor": 2
}
