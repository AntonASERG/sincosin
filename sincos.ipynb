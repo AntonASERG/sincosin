{
 "cells": [
  {
   "cell_type": "markdown",
   "metadata": {},
   "source": []
  },
  {
   "cell_type": "markdown",
   "metadata": {},
   "source": [
    " Импорт библиотек"
   ]
  },
  {
   "cell_type": "code",
   "execution_count": null,
   "metadata": {},
   "outputs": [],
   "source": [
    "from sympy import *\n",
    "from sympy.plotting import plot\n",
    "from sympy import cos, sin,Interval, symbols, solveset\n",
    "from sympy import abc\n",
    "from numpy import arange\n",
    "init_printing()"
   ]
  },
  {
   "cell_type": "markdown",
   "metadata": {},
   "source": [
    "Построени графика функции в промежутке от -10 до 10"
   ]
  },
  {
   "cell_type": "code",
   "execution_count": 8,
   "metadata": {},
   "outputs": [
    {
     "name": "stdout",
     "output_type": "stream",
     "text": [
      " 110000 |\\                                                      \n",
      "        | .                                                     \n",
      "        |                                                       \n",
      "        |  .                                                    \n",
      "        |                                                       \n",
      "        |                                                      /\n",
      "        |   .                                                 / \n",
      "        |                                                    .  \n",
      "        |                                                       \n",
      "        |    .                                              .   \n",
      "  40000 |-------------------------------------------------------\n",
      "        |                                                       \n",
      "        |     .                                            .    \n",
      "        |                                                       \n",
      "        |                                                       \n",
      "        |      .        ....                              .     \n",
      "        |            ...    ......................              \n",
      "        |       .  ..                             ..     .      \n",
      "        |        ..                                 \\           \n",
      "        |                                            ....       \n",
      " -30000 |_______________________________________________________\n",
      "         -10                        0                          10\n",
      "-12*x**4*sin(cos(x)) - 18*x**3 + 5*x**2 + 10*x - 30\n"
     ]
    }
   ],
   "source": [
    "x = Symbol('x', real=True)\n",
    "f = -12*sin(cos(x))*x**4 - 18*x**3+5*x**2 + 10*x - 30\n",
    "plot(f,(x,-10,10))\n",
    "print(f)"
   ]
  },
  {
   "cell_type": "markdown",
   "metadata": {},
   "source": [
    "Поиск значений f(0)"
   ]
  },
  {
   "cell_type": "markdown",
   "metadata": {},
   "source": [
    "Метод - отрисовывает участок графика по заданному промежутку"
   ]
  },
  {
   "cell_type": "code",
   "execution_count": 3,
   "metadata": {},
   "outputs": [
    {
     "name": "stdout",
     "output_type": "stream",
     "text": [
      "  17000 |\\                                                      \n",
      "        | \\                                                     \n",
      "        |  ..                                                   \n",
      "        |    \\                                                  \n",
      "        |     ..                                                \n",
      "        |       ..                                              \n",
      "        |         \\                                             \n",
      "        |          ..                                           \n",
      "        |            ..                                         \n",
      "        |              ..                                       \n",
      "   2000 |----------------..-------------------------------------\n",
      "        |                  ..                                   \n",
      "        |                    ..                                 \n",
      "        |                      ..                               \n",
      "        |                        ...                            \n",
      "        |                           ...                         \n",
      "        |                              ...                      \n",
      "        |                                 ...                   \n",
      "        |                                    .....              \n",
      "        |                                         ......        \n",
      " -13000 |_______________________________________________________\n",
      "         -8                         -7.5                       -7\n",
      "-12*x**4*sin(cos(x)) - 18*x**3 + 5*x**2 + 10*x - 30\n"
     ]
    }
   ],
   "source": [
    "plot(f,(x,-8,-7))\n",
    "print(f)"
   ]
  },
  {
   "cell_type": "markdown",
   "metadata": {},
   "source": [
    "Поиск значения f(0) на отрезке заданном отрезке"
   ]
  },
  {
   "cell_type": "code",
   "execution_count": null,
   "metadata": {},
   "outputs": [],
   "source": [
    "def function(x):\n",
    "    return -12*sin(cos(x))*x**4 - 18*x**3+5*x**2 + 10*x - 30\n",
    "\n",
    "tempDifferense = 0\n",
    "for i in arange (-7.7, -7.6, 0.00001):\n",
    "    if function(i) < tempDifferense: \n",
    "        print (f\"x = {i} => f(x) = {function(i)}\")\n",
    "        ##nearestRes = function(i)\n",
    "        nearestX = i\n",
    "        break"
   ]
  },
  {
   "cell_type": "code",
   "execution_count": null,
   "metadata": {},
   "outputs": [],
   "source": [
    "\n",
    "nsolve(f, nearestX)"
   ]
  },
  {
   "cell_type": "code",
   "execution_count": null,
   "metadata": {},
   "outputs": [],
   "source": [
    "plot(f,(x,-2,2))"
   ]
  },
  {
   "cell_type": "code",
   "execution_count": null,
   "metadata": {},
   "outputs": [],
   "source": [
    "for i in arange (-1.5, -1.3, 0.00001):\n",
    "    if function(i) < tempDifferense: \n",
    "        print (f\"x = {i} => f(x) = {function(i)}\")\n",
    "        ##nearestRes = function(i)\n",
    "        nearestX = i\n",
    "        break"
   ]
  },
  {
   "cell_type": "code",
   "execution_count": null,
   "metadata": {},
   "outputs": [],
   "source": [
    "nsolve(f, nearestX)"
   ]
  },
  {
   "cell_type": "code",
   "execution_count": null,
   "metadata": {},
   "outputs": [],
   "source": [
    "plot(f,(x,1.5,3))"
   ]
  },
  {
   "cell_type": "code",
   "execution_count": null,
   "metadata": {},
   "outputs": [],
   "source": [
    "for i in arange (2.2, 2.3, 0.00001):\n",
    "    if function(i) > tempDifferense: \n",
    "        print (f\"x = {i} => f(x) = {function(i)}\")\n",
    "        ##nearestRes = function(i)\n",
    "        nearestX = i\n",
    "        break"
   ]
  },
  {
   "cell_type": "code",
   "execution_count": null,
   "metadata": {},
   "outputs": [],
   "source": [
    "nsolve(f, nearestX)"
   ]
  },
  {
   "cell_type": "code",
   "execution_count": null,
   "metadata": {},
   "outputs": [],
   "source": [
    "plot(f,(x,3,5))"
   ]
  },
  {
   "cell_type": "code",
   "execution_count": null,
   "metadata": {},
   "outputs": [],
   "source": [
    "for i in arange (4.35, 4.4, 0.00001):\n",
    "    if function(i) < tempDifferense: \n",
    "        print (f\"x = {i} => f(x) = {function(i)}\")\n",
    "        ##nearestRes = function(i)\n",
    "        nearestX = i\n",
    "        break"
   ]
  },
  {
   "cell_type": "code",
   "execution_count": null,
   "metadata": {},
   "outputs": [],
   "source": [
    "nsolve(f, nearestX)"
   ]
  },
  {
   "cell_type": "code",
   "execution_count": null,
   "metadata": {},
   "outputs": [],
   "source": [
    "for i in arange (8, 8.1, 0.00001):\n",
    "    if function(i) > tempDifferense: \n",
    "        print(f\"x = {i} => f(x) = {function(i)}\")\n",
    "        ##nearestRes = function(i)\n",
    "        nearestX = i\n",
    "        break"
   ]
  },
  {
   "cell_type": "code",
   "execution_count": null,
   "metadata": {},
   "outputs": [],
   "source": [
    "nsolve(f, nearestX)"
   ]
  },
  {
   "cell_type": "markdown",
   "metadata": {},
   "source": [
    "Всего 6 решений f(0) на отрезке х ∈ [—10, 10].\n",
    "x1 = -7.65062228513275\n",
    "x2 = -5.02686592820621\n",
    "x3 = -1.33896663927711\n",
    "x4 = 2.27305684575625\n",
    "x5 = 4.38352369796896\n",
    "x6 = 8.03516413341352"
   ]
  },
  {
   "cell_type": "markdown",
   "metadata": {},
   "source": [
    "3. ОТВЕТ:\n",
    "Как минимум 5 вершин на отрезке х ∈ [—10, 10].\n",
    "A (-6.831370038454139, -13820.534926472736)\n",
    "B (-4.167783527804093, 3111.3632387359617)\n",
    "С (1.7006072772607506, -74.10629308610872)\n",
    "D (3.819310836467525, -872.2557702910613)\n",
    "E (7.001031654138797, -25610.50968103302)\n",
    "4. Поиск интервалов возрастания и убывания функции:\n",
    "Зная данные ранее можно предположить, что на заданном интервале, существуюет как минимум 6 интервалов\n",
    "4. ОТВЕТ:\n",
    "Как минимум 6 интервалов возрастания/убывания ф-ции на отрезке х ∈ [—10, 10].\n",
    "Убывает при x ∈ [-10, -6,83..]\n",
    "Возрастает при x ∈ [-6,83.., -4,17..]\n",
    "Убывает при x ∈ [-4,17.., 1,7..]\n",
    "Возрастает при x ∈ [1,7.., 3,82..]\n",
    "Убывает при x ∈ [3,82.., 7,001..]\n",
    "Возрастает при x ∈ [7,001.., 9,5]\n",
    "5. Промежутки при которых f(x) > 0 или f(x) < 0 :\n",
    "5. ОТВЕТ:\n",
    "Как минимум 7 промежутков на отрезке х ∈ [—10, 10].\n",
    "f(x) > 0 на промежутках:\n",
    "x ∈ [-10, -7,65..]\n",
    "x ∈ [-5,03.., -1.34..]\n",
    "x ∈ [2,27.., 4,38..]\n",
    "x ∈ [8,04.., 9,5..]\n",
    "f(x) < 0 на промежутках:\n",
    "x ∈ [-7,65.., -5,03..]\n",
    "x ∈ [-1.34.., 2,27..]\n",
    "x ∈ [4,38.., 8,04..]"
   ]
  }
 ],
 "metadata": {
  "kernelspec": {
   "display_name": "Python 3.8.10 64-bit",
   "language": "python",
   "name": "python3"
  },
  "language_info": {
   "codemirror_mode": {
    "name": "ipython",
    "version": 3
   },
   "file_extension": ".py",
   "mimetype": "text/x-python",
   "name": "python",
   "nbconvert_exporter": "python",
   "pygments_lexer": "ipython3",
   "version": "3.8.10"
  },
  "orig_nbformat": 4,
  "vscode": {
   "interpreter": {
    "hash": "f544ce1a915a9875fad91c894e2c0bcad4b7a79945aa6027ef3ad27810072aa6"
   }
  }
 },
 "nbformat": 4,
 "nbformat_minor": 2
}
